{
 "cells": [
  {
   "cell_type": "markdown",
   "metadata": {},
   "source": [
    "# Analyse IPL 2022 Auction Data "
   ]
  },
  {
   "cell_type": "markdown",
   "metadata": {},
   "source": [
    "Using Pandas and Pyspark SQL"
   ]
  },
  {
   "cell_type": "code",
   "execution_count": 80,
   "metadata": {},
   "outputs": [],
   "source": [
    "# # import pandassql\n",
    "# !pip install pandasql"
   ]
  },
  {
   "cell_type": "code",
   "execution_count": 81,
   "metadata": {},
   "outputs": [],
   "source": [
    "# Import libraries\n",
    "from pyspark.sql import SparkSession\n",
    "from pyspark.sql import *\n",
    "from pyspark.sql.functions import *"
   ]
  },
  {
   "cell_type": "markdown",
   "metadata": {},
   "source": [
    "Create Spark session"
   ]
  },
  {
   "cell_type": "code",
   "execution_count": 82,
   "metadata": {},
   "outputs": [],
   "source": [
    "spark = SparkSession.builder.master('local[*]').appName(\"IPL2022Auction\").config(\"spark.driver.bindAddress\",\"10.0.2.15\").getOrCreate()\n"
   ]
  },
  {
   "cell_type": "markdown",
   "metadata": {},
   "source": [
    "Read Dataset"
   ]
  },
  {
   "cell_type": "code",
   "execution_count": 83,
   "metadata": {},
   "outputs": [
    {
     "name": "stdout",
     "output_type": "stream",
     "text": [
      "23/08/11 15:28:59 WARN CSVHeaderChecker: CSV header does not conform to the schema.\n",
      " Header: , Player, Base Price, TYPE, COST IN ₹ (CR.), Cost IN $ (000), 2021 Squad, Team\n",
      " Schema: _c0, Player, Base Price, TYPE, COST IN ₹ (CR.), Cost IN $ (000), 2021 Squad, Team\n",
      "Expected: _c0 but found: \n",
      "CSV file: file:///home/hdoop/Documents/python/Pyspark_Analysis/ipl_2022_dataset.csv\n",
      "+---+-------------------+----------+------------+---------------+---------------+----------+--------------+\n",
      "|_c0|             Player|Base Price|        TYPE|COST IN ₹ (CR.)|Cost IN $ (000)|2021 Squad|          Team|\n",
      "+---+-------------------+----------+------------+---------------+---------------+----------+--------------+\n",
      "|  0|        Rashid Khan|Draft Pick|      BOWLER|           15.0|         1950.0|       SRH|Gujarat Titans|\n",
      "|  1|      Hardik Pandya|Draft Pick| ALL-ROUNDER|           15.0|         1950.0|        MI|Gujarat Titans|\n",
      "|  2|    Lockie Ferguson|      2 Cr|      BOWLER|           10.0|         1300.0|       KKR|Gujarat Titans|\n",
      "|  3|      Rahul Tewatia|   40 Lakh| ALL-ROUNDER|            9.0|         1170.0|        RR|Gujarat Titans|\n",
      "|  4|       Shubman Gill|Draft Pick|      BATTER|            8.0|         1040.0|       KKR|Gujarat Titans|\n",
      "|  5|     Mohammad Shami|      2 Cr|      BOWLER|           6.25|          812.5|      PBKS|Gujarat Titans|\n",
      "|  6|         Yash Dayal|   20 Lakh|      BOWLER|            3.2|          416.0|      null|Gujarat Titans|\n",
      "|  7|       David Miller|      1 Cr|      BATTER|            3.0|          390.0|        RR|Gujarat Titans|\n",
      "|  8|     R. Sai Kishore|   20 Lakh|      BOWLER|            3.0|          390.0|       CSK|Gujarat Titans|\n",
      "|  9|Abhinav Sadarangani|   20 Lakh|      BATTER|            2.6|          338.0|      null|Gujarat Titans|\n",
      "| 10|       Matthew Wade|      2 Cr|WICKETKEEPER|            2.4|          312.0|      null|Gujarat Titans|\n",
      "| 11|     Alzarri Joseph|   75 Lakh|      BOWLER|            2.4|          312.0|      null|Gujarat Titans|\n",
      "| 12|          Jason Roy|      2 Cr|      BATTER|            2.0|          260.0|       SRH|Gujarat Titans|\n",
      "| 13|    Wriddhiman Saha|      1 Cr|WICKETKEEPER|            1.9|          247.0|       SRH|Gujarat Titans|\n",
      "| 14|       Jayant Yadav|      1 Cr| ALL-ROUNDER|            1.7|          221.0|        MI|Gujarat Titans|\n",
      "| 15|      Vijay Shankar|   50 Lakh| ALL-ROUNDER|            1.4|          182.0|       SRH|Gujarat Titans|\n",
      "| 16|     Dominic Drakes|   75 Lakh| ALL-ROUNDER|            1.1|          143.0|       CSK|Gujarat Titans|\n",
      "| 17|        Varun Aaron|   50 Lakh|      BOWLER|            0.5|           65.0|      null|Gujarat Titans|\n",
      "| 18|    Gurkeerat Singh|   50 Lakh| ALL-ROUNDER|            0.5|           65.0|       KKR|Gujarat Titans|\n",
      "| 19|         Noor Ahmad|   30 Lakh|      BOWLER|            0.3|           39.0|      null|Gujarat Titans|\n",
      "+---+-------------------+----------+------------+---------------+---------------+----------+--------------+\n",
      "only showing top 20 rows\n",
      "\n"
     ]
    }
   ],
   "source": [
    "df = spark.read.csv(\"ipl_2022_dataset.csv\",header=True,inferSchema=True)\n",
    "\n",
    "df.show()"
   ]
  },
  {
   "cell_type": "markdown",
   "metadata": {},
   "source": [
    "check the data type of columns"
   ]
  },
  {
   "cell_type": "code",
   "execution_count": 84,
   "metadata": {},
   "outputs": [
    {
     "data": {
      "text/plain": [
       "str"
      ]
     },
     "execution_count": 84,
     "metadata": {},
     "output_type": "execute_result"
    }
   ],
   "source": [
    "type('_c0')"
   ]
  },
  {
   "cell_type": "markdown",
   "metadata": {},
   "source": [
    "# Data Exploration"
   ]
  },
  {
   "cell_type": "markdown",
   "metadata": {},
   "source": []
  },
  {
   "cell_type": "code",
   "execution_count": 85,
   "metadata": {},
   "outputs": [
    {
     "name": "stdout",
     "output_type": "stream",
     "text": [
      "Total Number of Rows: 633\n",
      "Total number of columns: 8\n"
     ]
    }
   ],
   "source": [
    "print(\"Total Number of Rows:\",df.count())\n",
    "print(\"Total number of columns:\",len(df.columns))"
   ]
  },
  {
   "cell_type": "markdown",
   "metadata": {},
   "source": [
    "Describe Dataframe"
   ]
  },
  {
   "cell_type": "code",
   "execution_count": 86,
   "metadata": {},
   "outputs": [
    {
     "name": "stdout",
     "output_type": "stream",
     "text": [
      "23/08/11 15:29:00 WARN CSVHeaderChecker: CSV header does not conform to the schema.\n",
      " Header: , Player, Base Price, TYPE, COST IN ₹ (CR.), Cost IN $ (000), 2021 Squad, Team\n",
      " Schema: _c0, Player, Base Price, TYPE, COST IN ₹ (CR.), Cost IN $ (000), 2021 Squad, Team\n",
      "Expected: _c0 but found: \n",
      "CSV file: file:///home/hdoop/Documents/python/Pyspark_Analysis/ipl_2022_dataset.csv\n",
      "+-------+-------+------------------+------------+----------+------------+------------------+------------------+----------+------+\n",
      "|summary|summary|               _c0|      Player|Base Price|        TYPE|   COST IN ₹ (CR.)|   Cost IN $ (000)|2021 Squad|  Team|\n",
      "+-------+-------+------------------+------------+----------+------------+------------------+------------------+----------+------+\n",
      "|  count|      5|                 5|           3|         3|           3|                 5|                 5|         3|     3|\n",
      "|   mean|   null| 352.7751281610878|       633.0|     633.0|       633.0| 52.42677449451607| 700.8806842870883|     199.0| 633.0|\n",
      "| stddev|   null| 278.9090554081385|        null|      null|        null|103.37652876436657| 868.7862220972634|      null|  null|\n",
      "|    min|  count|                 0|         633|      1 Cr|         633|               0.2|            2210.0|       199|   633|\n",
      "|    25%|   null|182.87564080543916|       633.0|     633.0|       633.0|3.6957805907173027|             237.0|     199.0| 633.0|\n",
      "|    50%|   null|             316.0|       633.0|     633.0|       633.0| 4.238091881863016|480.45147679324896|     199.0| 633.0|\n",
      "|    75%|   null|             632.0|       633.0|     633.0|       633.0|              17.0| 550.9519446421924|     199.0| 633.0|\n",
      "|    max| stddev|               633|Zubayr Hamza|  Retained|WICKETKEEPER| 4.238091881863016| 550.9519446421924|       SRH|Unsold|\n",
      "+-------+-------+------------------+------------+----------+------------+------------------+------------------+----------+------+\n",
      "\n"
     ]
    }
   ],
   "source": [
    "df.describe().summary().show()"
   ]
  },
  {
   "cell_type": "markdown",
   "metadata": {},
   "source": [
    "Data types of each column"
   ]
  },
  {
   "cell_type": "code",
   "execution_count": 87,
   "metadata": {},
   "outputs": [
    {
     "data": {
      "text/plain": [
       "[('_c0', 'int'),\n",
       " ('Player', 'string'),\n",
       " ('Base Price', 'string'),\n",
       " ('TYPE', 'string'),\n",
       " ('COST IN ₹ (CR.)', 'double'),\n",
       " ('Cost IN $ (000)', 'double'),\n",
       " ('2021 Squad', 'string'),\n",
       " ('Team', 'string')]"
      ]
     },
     "execution_count": 87,
     "metadata": {},
     "output_type": "execute_result"
    }
   ],
   "source": [
    "# Data types\n",
    "df.dtypes"
   ]
  },
  {
   "cell_type": "code",
   "execution_count": 88,
   "metadata": {},
   "outputs": [
    {
     "name": "stdout",
     "output_type": "stream",
     "text": [
      "+----------+\n",
      "|Base Price|\n",
      "+----------+\n",
      "|   20 Lakh|\n",
      "|      2 Cr|\n",
      "|Draft Pick|\n",
      "|   40 Lakh|\n",
      "|   30 Lakh|\n",
      "|      1 Cr|\n",
      "|   50 Lakh|\n",
      "|    1.5 Cr|\n",
      "|   75 Lakh|\n",
      "|  Retained|\n",
      "+----------+\n",
      "\n"
     ]
    }
   ],
   "source": [
    "# unique values in 'Base Price' colum\n",
    "unique_values_base_price = df.select('Base Price').distinct()\n",
    "unique_values_base_price.show()"
   ]
  },
  {
   "cell_type": "code",
   "execution_count": 89,
   "metadata": {},
   "outputs": [
    {
     "name": "stdout",
     "output_type": "stream",
     "text": [
      "+----------+-----+\n",
      "|Base Price|count|\n",
      "+----------+-----+\n",
      "|   20 Lakh|  344|\n",
      "|   50 Lakh|  104|\n",
      "|      2 Cr|   48|\n",
      "|      1 Cr|   33|\n",
      "|  Retained|   27|\n",
      "|   75 Lakh|   26|\n",
      "|    1.5 Cr|   20|\n",
      "|   40 Lakh|   16|\n",
      "|   30 Lakh|    9|\n",
      "|Draft Pick|    6|\n",
      "+----------+-----+\n",
      "\n"
     ]
    }
   ],
   "source": [
    "# Distribution of values inside column 'Base Price'\n",
    "base_price_value_count = df.groupBy('Base Price').count()\n",
    "base_price_value_count.orderBy(desc('count')).show()"
   ]
  },
  {
   "cell_type": "code",
   "execution_count": 90,
   "metadata": {},
   "outputs": [
    {
     "name": "stdout",
     "output_type": "stream",
     "text": [
      "+------------+-----+\n",
      "|        TYPE|count|\n",
      "+------------+-----+\n",
      "| ALL-ROUNDER|  242|\n",
      "|      BOWLER|  215|\n",
      "|      BATTER|  112|\n",
      "|WICKETKEEPER|   64|\n",
      "+------------+-----+\n",
      "\n"
     ]
    }
   ],
   "source": [
    "# unique values in 'Type' column\n",
    "type_distribution = df.groupBy(\"TYPE\").count()\n",
    "type_distribution.orderBy(desc(\"count\")).show()"
   ]
  },
  {
   "cell_type": "markdown",
   "metadata": {},
   "source": [
    "Question to Answer\n",
    "1. Top 3 batsmen who get paid the most?\n",
    "2. Top 5 bowlers who get maid the most?\n",
    "3. Highest paid All-rounders?\n",
    "4. Average pay for batsman,Wicket Keeper?\n",
    "5. List of Retained Players with salary?"
   ]
  },
  {
   "cell_type": "markdown",
   "metadata": {},
   "source": [
    "## Data Transformation"
   ]
  },
  {
   "cell_type": "markdown",
   "metadata": {},
   "source": [
    "Dataframe manipulation \n",
    "1. Rename columns"
   ]
  },
  {
   "cell_type": "code",
   "execution_count": 91,
   "metadata": {},
   "outputs": [
    {
     "data": {
      "text/plain": [
       "['_c0',\n",
       " 'Player',\n",
       " 'Base Price',\n",
       " 'TYPE',\n",
       " 'COST IN ₹ (CR.)',\n",
       " 'Cost IN $ (000)',\n",
       " '2021 Squad',\n",
       " 'Team']"
      ]
     },
     "execution_count": 91,
     "metadata": {},
     "output_type": "execute_result"
    }
   ],
   "source": [
    "df.columns"
   ]
  },
  {
   "cell_type": "markdown",
   "metadata": {},
   "source": [
    "Rename column names in dataframe"
   ]
  },
  {
   "cell_type": "code",
   "execution_count": 92,
   "metadata": {},
   "outputs": [],
   "source": [
    "# rename columns and save it in variable df2\n",
    "df_rename_columns = {'Player':'player',\n",
    "                   'Base Price':'base_price',\n",
    "                   'TYPE':'type',\n",
    "                   'COST IN ₹ (CR.)':'cost_inr',\n",
    "                   'Cost IN $ (000)':'cost_usd',\n",
    "                    '2021 Squad':'old_team',\n",
    "                    'Team':'new_team'\n",
    "                   }\n",
    "\n",
    "for old_column_name ,new_column_name in df_rename_columns.items():\n",
    "    df = df.withColumnRenamed(old_column_name,new_column_name)"
   ]
  },
  {
   "cell_type": "code",
   "execution_count": 93,
   "metadata": {},
   "outputs": [
    {
     "name": "stdout",
     "output_type": "stream",
     "text": [
      "23/08/11 15:29:02 WARN CSVHeaderChecker: CSV header does not conform to the schema.\n",
      " Header: , Player, Base Price, TYPE, COST IN ₹ (CR.), Cost IN $ (000), 2021 Squad, Team\n",
      " Schema: _c0, Player, Base Price, TYPE, COST IN ₹ (CR.), Cost IN $ (000), 2021 Squad, Team\n",
      "Expected: _c0 but found: \n",
      "CSV file: file:///home/hdoop/Documents/python/Pyspark_Analysis/ipl_2022_dataset.csv\n",
      "+---+-------------------+----------+------------+--------+--------+--------+--------------+\n",
      "|_c0|             player|base_price|        type|cost_inr|cost_usd|old_team|      new_team|\n",
      "+---+-------------------+----------+------------+--------+--------+--------+--------------+\n",
      "|  0|        Rashid Khan|Draft Pick|      BOWLER|    15.0|  1950.0|     SRH|Gujarat Titans|\n",
      "|  1|      Hardik Pandya|Draft Pick| ALL-ROUNDER|    15.0|  1950.0|      MI|Gujarat Titans|\n",
      "|  2|    Lockie Ferguson|      2 Cr|      BOWLER|    10.0|  1300.0|     KKR|Gujarat Titans|\n",
      "|  3|      Rahul Tewatia|   40 Lakh| ALL-ROUNDER|     9.0|  1170.0|      RR|Gujarat Titans|\n",
      "|  4|       Shubman Gill|Draft Pick|      BATTER|     8.0|  1040.0|     KKR|Gujarat Titans|\n",
      "|  5|     Mohammad Shami|      2 Cr|      BOWLER|    6.25|   812.5|    PBKS|Gujarat Titans|\n",
      "|  6|         Yash Dayal|   20 Lakh|      BOWLER|     3.2|   416.0|    null|Gujarat Titans|\n",
      "|  7|       David Miller|      1 Cr|      BATTER|     3.0|   390.0|      RR|Gujarat Titans|\n",
      "|  8|     R. Sai Kishore|   20 Lakh|      BOWLER|     3.0|   390.0|     CSK|Gujarat Titans|\n",
      "|  9|Abhinav Sadarangani|   20 Lakh|      BATTER|     2.6|   338.0|    null|Gujarat Titans|\n",
      "| 10|       Matthew Wade|      2 Cr|WICKETKEEPER|     2.4|   312.0|    null|Gujarat Titans|\n",
      "| 11|     Alzarri Joseph|   75 Lakh|      BOWLER|     2.4|   312.0|    null|Gujarat Titans|\n",
      "| 12|          Jason Roy|      2 Cr|      BATTER|     2.0|   260.0|     SRH|Gujarat Titans|\n",
      "| 13|    Wriddhiman Saha|      1 Cr|WICKETKEEPER|     1.9|   247.0|     SRH|Gujarat Titans|\n",
      "| 14|       Jayant Yadav|      1 Cr| ALL-ROUNDER|     1.7|   221.0|      MI|Gujarat Titans|\n",
      "| 15|      Vijay Shankar|   50 Lakh| ALL-ROUNDER|     1.4|   182.0|     SRH|Gujarat Titans|\n",
      "| 16|     Dominic Drakes|   75 Lakh| ALL-ROUNDER|     1.1|   143.0|     CSK|Gujarat Titans|\n",
      "| 17|        Varun Aaron|   50 Lakh|      BOWLER|     0.5|    65.0|    null|Gujarat Titans|\n",
      "| 18|    Gurkeerat Singh|   50 Lakh| ALL-ROUNDER|     0.5|    65.0|     KKR|Gujarat Titans|\n",
      "| 19|         Noor Ahmad|   30 Lakh|      BOWLER|     0.3|    39.0|    null|Gujarat Titans|\n",
      "+---+-------------------+----------+------------+--------+--------+--------+--------------+\n",
      "only showing top 20 rows\n",
      "\n"
     ]
    }
   ],
   "source": [
    "df.show()"
   ]
  },
  {
   "cell_type": "code",
   "execution_count": 94,
   "metadata": {},
   "outputs": [
    {
     "name": "stdout",
     "output_type": "stream",
     "text": [
      "23/08/11 15:29:03 WARN CSVHeaderChecker: CSV header does not conform to the schema.\n",
      " Header: , Player, Base Price, TYPE, COST IN ₹ (CR.), 2021 Squad, Team\n",
      " Schema: _c0, Player, Base Price, TYPE, COST IN ₹ (CR.), 2021 Squad, Team\n",
      "Expected: _c0 but found: \n",
      "CSV file: file:///home/hdoop/Documents/python/Pyspark_Analysis/ipl_2022_dataset.csv\n",
      "+---+-------------------+----------+------------+--------+--------+--------------+\n",
      "|_c0|             player|base_price|        type|cost_inr|old_team|      new_team|\n",
      "+---+-------------------+----------+------------+--------+--------+--------------+\n",
      "|  0|        Rashid Khan|Draft Pick|      BOWLER|    15.0|     SRH|Gujarat Titans|\n",
      "|  1|      Hardik Pandya|Draft Pick| ALL-ROUNDER|    15.0|      MI|Gujarat Titans|\n",
      "|  2|    Lockie Ferguson|      2 Cr|      BOWLER|    10.0|     KKR|Gujarat Titans|\n",
      "|  3|      Rahul Tewatia|   40 Lakh| ALL-ROUNDER|     9.0|      RR|Gujarat Titans|\n",
      "|  4|       Shubman Gill|Draft Pick|      BATTER|     8.0|     KKR|Gujarat Titans|\n",
      "|  5|     Mohammad Shami|      2 Cr|      BOWLER|    6.25|    PBKS|Gujarat Titans|\n",
      "|  6|         Yash Dayal|   20 Lakh|      BOWLER|     3.2|    null|Gujarat Titans|\n",
      "|  7|       David Miller|      1 Cr|      BATTER|     3.0|      RR|Gujarat Titans|\n",
      "|  8|     R. Sai Kishore|   20 Lakh|      BOWLER|     3.0|     CSK|Gujarat Titans|\n",
      "|  9|Abhinav Sadarangani|   20 Lakh|      BATTER|     2.6|    null|Gujarat Titans|\n",
      "| 10|       Matthew Wade|      2 Cr|WICKETKEEPER|     2.4|    null|Gujarat Titans|\n",
      "| 11|     Alzarri Joseph|   75 Lakh|      BOWLER|     2.4|    null|Gujarat Titans|\n",
      "| 12|          Jason Roy|      2 Cr|      BATTER|     2.0|     SRH|Gujarat Titans|\n",
      "| 13|    Wriddhiman Saha|      1 Cr|WICKETKEEPER|     1.9|     SRH|Gujarat Titans|\n",
      "| 14|       Jayant Yadav|      1 Cr| ALL-ROUNDER|     1.7|      MI|Gujarat Titans|\n",
      "| 15|      Vijay Shankar|   50 Lakh| ALL-ROUNDER|     1.4|     SRH|Gujarat Titans|\n",
      "| 16|     Dominic Drakes|   75 Lakh| ALL-ROUNDER|     1.1|     CSK|Gujarat Titans|\n",
      "| 17|        Varun Aaron|   50 Lakh|      BOWLER|     0.5|    null|Gujarat Titans|\n",
      "| 18|    Gurkeerat Singh|   50 Lakh| ALL-ROUNDER|     0.5|     KKR|Gujarat Titans|\n",
      "| 19|         Noor Ahmad|   30 Lakh|      BOWLER|     0.3|    null|Gujarat Titans|\n",
      "+---+-------------------+----------+------------+--------+--------+--------------+\n",
      "only showing top 20 rows\n",
      "\n"
     ]
    }
   ],
   "source": [
    "# Dropping USD column\n",
    "df2 = df.drop('cost_usd')\n",
    "df2.show()"
   ]
  },
  {
   "cell_type": "markdown",
   "metadata": {},
   "source": [
    "# setting pyspark sql"
   ]
  },
  {
   "cell_type": "code",
   "execution_count": 95,
   "metadata": {},
   "outputs": [],
   "source": [
    "df2.createOrReplaceTempView(\"sqldf\")"
   ]
  },
  {
   "cell_type": "code",
   "execution_count": 96,
   "metadata": {},
   "outputs": [
    {
     "name": "stdout",
     "output_type": "stream",
     "text": [
      "23/08/11 15:29:03 WARN CSVHeaderChecker: CSV header does not conform to the schema.\n",
      " Header: , Player, Base Price, TYPE, COST IN ₹ (CR.), 2021 Squad, Team\n",
      " Schema: _c0, Player, Base Price, TYPE, COST IN ₹ (CR.), 2021 Squad, Team\n",
      "Expected: _c0 but found: \n",
      "CSV file: file:///home/hdoop/Documents/python/Pyspark_Analysis/ipl_2022_dataset.csv\n",
      "+---+-------------------+----------+------------+--------+--------+--------------+\n",
      "|_c0|             player|base_price|        type|cost_inr|old_team|      new_team|\n",
      "+---+-------------------+----------+------------+--------+--------+--------------+\n",
      "|  0|        Rashid Khan|Draft Pick|      BOWLER|    15.0|     SRH|Gujarat Titans|\n",
      "|  1|      Hardik Pandya|Draft Pick| ALL-ROUNDER|    15.0|      MI|Gujarat Titans|\n",
      "|  2|    Lockie Ferguson|      2 Cr|      BOWLER|    10.0|     KKR|Gujarat Titans|\n",
      "|  3|      Rahul Tewatia|   40 Lakh| ALL-ROUNDER|     9.0|      RR|Gujarat Titans|\n",
      "|  4|       Shubman Gill|Draft Pick|      BATTER|     8.0|     KKR|Gujarat Titans|\n",
      "|  5|     Mohammad Shami|      2 Cr|      BOWLER|    6.25|    PBKS|Gujarat Titans|\n",
      "|  6|         Yash Dayal|   20 Lakh|      BOWLER|     3.2|    null|Gujarat Titans|\n",
      "|  7|       David Miller|      1 Cr|      BATTER|     3.0|      RR|Gujarat Titans|\n",
      "|  8|     R. Sai Kishore|   20 Lakh|      BOWLER|     3.0|     CSK|Gujarat Titans|\n",
      "|  9|Abhinav Sadarangani|   20 Lakh|      BATTER|     2.6|    null|Gujarat Titans|\n",
      "| 10|       Matthew Wade|      2 Cr|WICKETKEEPER|     2.4|    null|Gujarat Titans|\n",
      "| 11|     Alzarri Joseph|   75 Lakh|      BOWLER|     2.4|    null|Gujarat Titans|\n",
      "| 12|          Jason Roy|      2 Cr|      BATTER|     2.0|     SRH|Gujarat Titans|\n",
      "| 13|    Wriddhiman Saha|      1 Cr|WICKETKEEPER|     1.9|     SRH|Gujarat Titans|\n",
      "| 14|       Jayant Yadav|      1 Cr| ALL-ROUNDER|     1.7|      MI|Gujarat Titans|\n",
      "| 15|      Vijay Shankar|   50 Lakh| ALL-ROUNDER|     1.4|     SRH|Gujarat Titans|\n",
      "| 16|     Dominic Drakes|   75 Lakh| ALL-ROUNDER|     1.1|     CSK|Gujarat Titans|\n",
      "| 17|        Varun Aaron|   50 Lakh|      BOWLER|     0.5|    null|Gujarat Titans|\n",
      "| 18|    Gurkeerat Singh|   50 Lakh| ALL-ROUNDER|     0.5|     KKR|Gujarat Titans|\n",
      "| 19|         Noor Ahmad|   30 Lakh|      BOWLER|     0.3|    null|Gujarat Titans|\n",
      "+---+-------------------+----------+------------+--------+--------+--------------+\n",
      "only showing top 20 rows\n",
      "\n"
     ]
    }
   ],
   "source": [
    "spark.sql(\"select * from sqldf\").show()"
   ]
  },
  {
   "cell_type": "markdown",
   "metadata": {},
   "source": [
    "1. Top 3 batsmen who get paid the most?"
   ]
  },
  {
   "cell_type": "code",
   "execution_count": 97,
   "metadata": {},
   "outputs": [
    {
     "name": "stdout",
     "output_type": "stream",
     "text": [
      "+---------------+--------+\n",
      "|         player|cost_inr|\n",
      "+---------------+--------+\n",
      "|   Rohit Sharma|    16.0|\n",
      "|    Virat Kohli|    15.0|\n",
      "|Kane Williamson|    14.0|\n",
      "+---------------+--------+\n",
      "\n"
     ]
    }
   ],
   "source": [
    "spark.sql(\"select player,cost_inr from sqldf where type='BATTER' ORDER BY cost_inr DESC LIMIT 3\").show()"
   ]
  },
  {
   "cell_type": "markdown",
   "metadata": {},
   "source": [
    "2. Top 5 bowlers who get paid the most?"
   ]
  },
  {
   "cell_type": "code",
   "execution_count": 98,
   "metadata": {},
   "outputs": [
    {
     "name": "stdout",
     "output_type": "stream",
     "text": [
      "+--------------+--------+\n",
      "|        player|cost_inr|\n",
      "+--------------+--------+\n",
      "|   Rashid Khan|    15.0|\n",
      "| Deepak Chahar|    14.0|\n",
      "|Jasprit Bumrah|    12.0|\n",
      "|Shardul Thakur|   10.75|\n",
      "|    Avesh Khan|    10.0|\n",
      "+--------------+--------+\n",
      "\n"
     ]
    }
   ],
   "source": [
    "spark.sql(\"select player,cost_inr from sqldf where type='BOWLER' ORDER BY cost_inr DESC LIMIT 5 \").show()"
   ]
  },
  {
   "cell_type": "markdown",
   "metadata": {},
   "source": [
    "3. Highest paid All-rounders"
   ]
  },
  {
   "cell_type": "code",
   "execution_count": 99,
   "metadata": {},
   "outputs": [
    {
     "name": "stdout",
     "output_type": "stream",
     "text": [
      "+---------------+--------+\n",
      "|         player|cost_inr|\n",
      "+---------------+--------+\n",
      "|Ravindra Jadeja|    16.0|\n",
      "+---------------+--------+\n",
      "\n"
     ]
    }
   ],
   "source": [
    "spark.sql(\"select player,cost_inr from sqldf where type='ALL-ROUNDER' ORDER BY cost_inr DESC LIMIT 1 \").show()"
   ]
  },
  {
   "cell_type": "markdown",
   "metadata": {},
   "source": [
    "4. Top 5 lowest paid wicket keeper"
   ]
  },
  {
   "cell_type": "code",
   "execution_count": 100,
   "metadata": {},
   "outputs": [
    {
     "name": "stdout",
     "output_type": "stream",
     "text": [
      "+---------------+--------+\n",
      "|         player|cost_inr|\n",
      "+---------------+--------+\n",
      "|    Dhruv Jurel|     0.2|\n",
      "|  Jitesh Sharma|     0.2|\n",
      "|  N. Jagadeesan|     0.2|\n",
      "|    Aryan Juyal|     0.2|\n",
      "|Luvnith Sisodia|     0.2|\n",
      "+---------------+--------+\n",
      "\n"
     ]
    }
   ],
   "source": [
    "spark.sql(\"\"\"select player,cost_inr from sqldf where type='WICKETKEEPER' AND cost_inr is not null ORDER BY cost_inr LIMIT 5\"\"\").show()"
   ]
  },
  {
   "cell_type": "markdown",
   "metadata": {},
   "source": [
    "4. Average pay for batsman,Wicket Keeper?"
   ]
  },
  {
   "cell_type": "code",
   "execution_count": 101,
   "metadata": {},
   "outputs": [
    {
     "name": "stdout",
     "output_type": "stream",
     "text": [
      "+------------+----------------+\n",
      "|        type|Average_cost_inr|\n",
      "+------------+----------------+\n",
      "|WICKETKEEPER|            5.09|\n",
      "|      BATTER|            4.11|\n",
      "| ALL-ROUNDER|            3.61|\n",
      "|      BOWLER|            3.07|\n",
      "+------------+----------------+\n",
      "\n"
     ]
    }
   ],
   "source": [
    "spark.sql(\"select type,round(avg(cost_inr),2) as Average_cost_inr from sqldf GROUP BY TYPE ORDER BY 2 DESC\").show()"
   ]
  },
  {
   "cell_type": "markdown",
   "metadata": {},
   "source": [
    "5. List of retained players with team name and salary"
   ]
  },
  {
   "cell_type": "code",
   "execution_count": 105,
   "metadata": {},
   "outputs": [
    {
     "name": "stdout",
     "output_type": "stream",
     "text": [
      "+---------------+--------+--------------------+\n",
      "|         player|cost_inr|       Retained_team|\n",
      "+---------------+--------+--------------------+\n",
      "|Ravindra Jadeja|    16.0| Chennai Super Kings|\n",
      "|   Rishabh Pant|    16.0|      Delhi Capitals|\n",
      "|   Rohit Sharma|    16.0|      Mumbai Indians|\n",
      "|    Virat Kohli|    15.0|Royal Challengers...|\n",
      "|   Sanju Samson|    14.0|    Rajasthan Royals|\n",
      "+---------------+--------+--------------------+\n",
      "\n"
     ]
    }
   ],
   "source": [
    "spark.sql(\"select player,cost_inr,new_team as Retained_team from sqldf where base_price='Retained' ORDER BY cost_inr DESC LIMIT 5\").show()"
   ]
  },
  {
   "cell_type": "markdown",
   "metadata": {},
   "source": [
    "close Spark session"
   ]
  },
  {
   "cell_type": "code",
   "execution_count": 108,
   "metadata": {},
   "outputs": [],
   "source": [
    "spark.stop()"
   ]
  }
 ],
 "metadata": {
  "kernelspec": {
   "display_name": "Python 3",
   "language": "python",
   "name": "python3"
  },
  "language_info": {
   "codemirror_mode": {
    "name": "ipython",
    "version": 3
   },
   "file_extension": ".py",
   "mimetype": "text/x-python",
   "name": "python",
   "nbconvert_exporter": "python",
   "pygments_lexer": "ipython3",
   "version": "3.8.10"
  },
  "orig_nbformat": 4
 },
 "nbformat": 4,
 "nbformat_minor": 2
}
