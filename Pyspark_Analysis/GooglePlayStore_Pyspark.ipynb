{
 "cells": [
  {
   "cell_type": "markdown",
   "metadata": {},
   "source": [
    "# Pyspark Analysis on Googel Play Store Dataset"
   ]
  },
  {
   "cell_type": "markdown",
   "metadata": {},
   "source": [
    "Agenda /\n",
    "1. Find out Top 10 reviews given to the apps.\n",
    "2. Top 10 installs app and distribution of type (Free/  Paid)\n",
    "3. Category wise distribution of installed apps.\n",
    "4. Top paid apps\n",
    "5. Top paid rating apps.\n"
   ]
  },
  {
   "cell_type": "code",
   "execution_count": 43,
   "metadata": {},
   "outputs": [],
   "source": [
    "# Import Libraies\n",
    "from pyspark.sql import SparkSession\n",
    "from pyspark.sql.functions import *"
   ]
  },
  {
   "cell_type": "markdown",
   "metadata": {},
   "source": [
    "Create sparksession object"
   ]
  },
  {
   "cell_type": "code",
   "execution_count": 44,
   "metadata": {},
   "outputs": [],
   "source": [
    "spark = SparkSession.builder.master('local[*]').appName(\"GoogleAppStore\").config(\"spark.driver.bindAddress\",\"10.0.2.15\").getOrCreate()\n"
   ]
  },
  {
   "cell_type": "markdown",
   "metadata": {},
   "source": [
    "Read input csv data into pyspark dataframe"
   ]
  },
  {
   "cell_type": "code",
   "execution_count": 45,
   "metadata": {},
   "outputs": [
    {
     "name": "stdout",
     "output_type": "stream",
     "text": [
      "+--------------------+--------------+------+-------+----+-----------+----+-----+--------------+--------------------+------------------+------------------+------------+\n",
      "|                 App|      Category|Rating|Reviews|Size|   Installs|Type|Price|Content Rating|              Genres|      Last Updated|       Current Ver| Android Ver|\n",
      "+--------------------+--------------+------+-------+----+-----------+----+-----+--------------+--------------------+------------------+------------------+------------+\n",
      "|Photo Editor & Ca...|ART_AND_DESIGN|   4.1|    159| 19M|    10,000+|Free|    0|      Everyone|        Art & Design|   January 7, 2018|             1.0.0|4.0.3 and up|\n",
      "| Coloring book moana|ART_AND_DESIGN|   3.9|    967| 14M|   500,000+|Free|    0|      Everyone|Art & Design;Pret...|  January 15, 2018|             2.0.0|4.0.3 and up|\n",
      "|U Launcher Lite –...|ART_AND_DESIGN|   4.7|  87510|8.7M| 5,000,000+|Free|    0|      Everyone|        Art & Design|    August 1, 2018|             1.2.4|4.0.3 and up|\n",
      "|Sketch - Draw & P...|ART_AND_DESIGN|   4.5| 215644| 25M|50,000,000+|Free|    0|          Teen|        Art & Design|      June 8, 2018|Varies with device|  4.2 and up|\n",
      "|Pixel Draw - Numb...|ART_AND_DESIGN|   4.3|    967|2.8M|   100,000+|Free|    0|      Everyone|Art & Design;Crea...|     June 20, 2018|               1.1|  4.4 and up|\n",
      "|Paper flowers ins...|ART_AND_DESIGN|   4.4|    167|5.6M|    50,000+|Free|    0|      Everyone|        Art & Design|    March 26, 2017|               1.0|  2.3 and up|\n",
      "|Smoke Effect Phot...|ART_AND_DESIGN|   3.8|    178| 19M|    50,000+|Free|    0|      Everyone|        Art & Design|    April 26, 2018|               1.1|4.0.3 and up|\n",
      "|    Infinite Painter|ART_AND_DESIGN|   4.1|  36815| 29M| 1,000,000+|Free|    0|      Everyone|        Art & Design|     June 14, 2018|          6.1.61.1|  4.2 and up|\n",
      "|Garden Coloring Book|ART_AND_DESIGN|   4.4|  13791| 33M| 1,000,000+|Free|    0|      Everyone|        Art & Design|September 20, 2017|             2.9.2|  3.0 and up|\n",
      "|Kids Paint Free -...|ART_AND_DESIGN|   4.7|    121|3.1M|    10,000+|Free|    0|      Everyone|Art & Design;Crea...|      July 3, 2018|               2.8|4.0.3 and up|\n",
      "+--------------------+--------------+------+-------+----+-----------+----+-----+--------------+--------------------+------------------+------------------+------------+\n",
      "only showing top 10 rows\n",
      "\n"
     ]
    }
   ],
   "source": [
    "df = spark.read.csv(\"/home/hdoop/Documents/python/Pyspark_Analysis/googleplaystore/googleplaystore.csv\",header=True,inferSchema=True)\n",
    "df.show(10)"
   ]
  },
  {
   "cell_type": "markdown",
   "metadata": {},
   "source": [
    "# Data Exploration"
   ]
  },
  {
   "cell_type": "markdown",
   "metadata": {},
   "source": [
    "Dataframe shape"
   ]
  },
  {
   "cell_type": "code",
   "execution_count": 46,
   "metadata": {},
   "outputs": [
    {
     "name": "stdout",
     "output_type": "stream",
     "text": [
      "Total Rows in dataframe: 10841\n",
      "Total columns in dataframe: 13\n"
     ]
    }
   ],
   "source": [
    "print(\"Total Rows in dataframe:\",df.count())\n",
    "print(\"Total columns in dataframe:\",len(df.columns))"
   ]
  },
  {
   "cell_type": "code",
   "execution_count": 47,
   "metadata": {},
   "outputs": [
    {
     "data": {
      "text/plain": [
       "[('App', 'string'),\n",
       " ('Category', 'string'),\n",
       " ('Rating', 'string'),\n",
       " ('Reviews', 'string'),\n",
       " ('Size', 'string'),\n",
       " ('Installs', 'string'),\n",
       " ('Type', 'string'),\n",
       " ('Price', 'string'),\n",
       " ('Content Rating', 'string'),\n",
       " ('Genres', 'string'),\n",
       " ('Last Updated', 'string'),\n",
       " ('Current Ver', 'string'),\n",
       " ('Android Ver', 'string')]"
      ]
     },
     "execution_count": 47,
     "metadata": {},
     "output_type": "execute_result"
    }
   ],
   "source": [
    "df.dtypes"
   ]
  },
  {
   "cell_type": "markdown",
   "metadata": {},
   "source": [
    "# Data Cleaning"
   ]
  },
  {
   "cell_type": "markdown",
   "metadata": {},
   "source": [
    "Removing columns from data framwe which are not needed"
   ]
  },
  {
   "cell_type": "code",
   "execution_count": 48,
   "metadata": {},
   "outputs": [],
   "source": [
    "df1 = df.drop(\"Size\",\"Content Rating\",\"Last Updated\",\"Current Ver\",\"Android Ver\")"
   ]
  },
  {
   "cell_type": "code",
   "execution_count": 49,
   "metadata": {},
   "outputs": [
    {
     "name": "stdout",
     "output_type": "stream",
     "text": [
      "+--------------------+--------------+------+-------+-----------+----+-----+--------------------+\n",
      "|                 App|      Category|Rating|Reviews|   Installs|Type|Price|              Genres|\n",
      "+--------------------+--------------+------+-------+-----------+----+-----+--------------------+\n",
      "|Photo Editor & Ca...|ART_AND_DESIGN|   4.1|    159|    10,000+|Free|    0|        Art & Design|\n",
      "| Coloring book moana|ART_AND_DESIGN|   3.9|    967|   500,000+|Free|    0|Art & Design;Pret...|\n",
      "|U Launcher Lite –...|ART_AND_DESIGN|   4.7|  87510| 5,000,000+|Free|    0|        Art & Design|\n",
      "|Sketch - Draw & P...|ART_AND_DESIGN|   4.5| 215644|50,000,000+|Free|    0|        Art & Design|\n",
      "|Pixel Draw - Numb...|ART_AND_DESIGN|   4.3|    967|   100,000+|Free|    0|Art & Design;Crea...|\n",
      "|Paper flowers ins...|ART_AND_DESIGN|   4.4|    167|    50,000+|Free|    0|        Art & Design|\n",
      "|Smoke Effect Phot...|ART_AND_DESIGN|   3.8|    178|    50,000+|Free|    0|        Art & Design|\n",
      "|    Infinite Painter|ART_AND_DESIGN|   4.1|  36815| 1,000,000+|Free|    0|        Art & Design|\n",
      "|Garden Coloring Book|ART_AND_DESIGN|   4.4|  13791| 1,000,000+|Free|    0|        Art & Design|\n",
      "|Kids Paint Free -...|ART_AND_DESIGN|   4.7|    121|    10,000+|Free|    0|Art & Design;Crea...|\n",
      "|Text on Photo - F...|ART_AND_DESIGN|   4.4|  13880| 1,000,000+|Free|    0|        Art & Design|\n",
      "|Name Art Photo Ed...|ART_AND_DESIGN|   4.4|   8788| 1,000,000+|Free|    0|        Art & Design|\n",
      "|Tattoo Name On My...|ART_AND_DESIGN|   4.2|  44829|10,000,000+|Free|    0|        Art & Design|\n",
      "|Mandala Coloring ...|ART_AND_DESIGN|   4.6|   4326|   100,000+|Free|    0|        Art & Design|\n",
      "|3D Color Pixel by...|ART_AND_DESIGN|   4.4|   1518|   100,000+|Free|    0|        Art & Design|\n",
      "|Learn To Draw Kaw...|ART_AND_DESIGN|   3.2|     55|     5,000+|Free|    0|        Art & Design|\n",
      "|Photo Designer - ...|ART_AND_DESIGN|   4.7|   3632|   500,000+|Free|    0|        Art & Design|\n",
      "|350 Diy Room Deco...|ART_AND_DESIGN|   4.5|     27|    10,000+|Free|    0|        Art & Design|\n",
      "|FlipaClip - Carto...|ART_AND_DESIGN|   4.3| 194216| 5,000,000+|Free|    0|        Art & Design|\n",
      "|        ibis Paint X|ART_AND_DESIGN|   4.6| 224399|10,000,000+|Free|    0|        Art & Design|\n",
      "+--------------------+--------------+------+-------+-----------+----+-----+--------------------+\n",
      "only showing top 20 rows\n",
      "\n"
     ]
    }
   ],
   "source": [
    "df1.show()"
   ]
  },
  {
   "cell_type": "markdown",
   "metadata": {},
   "source": [
    "# Data Preprocessing"
   ]
  },
  {
   "cell_type": "code",
   "execution_count": 50,
   "metadata": {},
   "outputs": [
    {
     "name": "stdout",
     "output_type": "stream",
     "text": [
      "root\n",
      " |-- App: string (nullable = true)\n",
      " |-- Category: string (nullable = true)\n",
      " |-- Rating: string (nullable = true)\n",
      " |-- Reviews: string (nullable = true)\n",
      " |-- Installs: string (nullable = true)\n",
      " |-- Type: string (nullable = true)\n",
      " |-- Price: string (nullable = true)\n",
      " |-- Genres: string (nullable = true)\n",
      "\n"
     ]
    }
   ],
   "source": [
    "df1.printSchema()"
   ]
  },
  {
   "cell_type": "markdown",
   "metadata": {},
   "source": [
    "Changing Data types of columns"
   ]
  },
  {
   "cell_type": "code",
   "execution_count": 51,
   "metadata": {},
   "outputs": [
    {
     "name": "stdout",
     "output_type": "stream",
     "text": [
      "+--------------------+--------------+------+-------+--------+----+-----+--------------------+\n",
      "|                 App|      Category|Rating|Reviews|Installs|Type|Price|              Genres|\n",
      "+--------------------+--------------+------+-------+--------+----+-----+--------------------+\n",
      "|Photo Editor & Ca...|ART_AND_DESIGN|   4.1|    159|   10000|Free|    0|        Art & Design|\n",
      "| Coloring book moana|ART_AND_DESIGN|   3.9|    967|  500000|Free|    0|Art & Design;Pret...|\n",
      "|U Launcher Lite –...|ART_AND_DESIGN|   4.7|  87510| 5000000|Free|    0|        Art & Design|\n",
      "|Sketch - Draw & P...|ART_AND_DESIGN|   4.5| 215644|50000000|Free|    0|        Art & Design|\n",
      "|Pixel Draw - Numb...|ART_AND_DESIGN|   4.3|    967|  100000|Free|    0|Art & Design;Crea...|\n",
      "|Paper flowers ins...|ART_AND_DESIGN|   4.4|    167|   50000|Free|    0|        Art & Design|\n",
      "|Smoke Effect Phot...|ART_AND_DESIGN|   3.8|    178|   50000|Free|    0|        Art & Design|\n",
      "|    Infinite Painter|ART_AND_DESIGN|   4.1|  36815| 1000000|Free|    0|        Art & Design|\n",
      "|Garden Coloring Book|ART_AND_DESIGN|   4.4|  13791| 1000000|Free|    0|        Art & Design|\n",
      "|Kids Paint Free -...|ART_AND_DESIGN|   4.7|    121|   10000|Free|    0|Art & Design;Crea...|\n",
      "|Text on Photo - F...|ART_AND_DESIGN|   4.4|  13880| 1000000|Free|    0|        Art & Design|\n",
      "|Name Art Photo Ed...|ART_AND_DESIGN|   4.4|   8788| 1000000|Free|    0|        Art & Design|\n",
      "|Tattoo Name On My...|ART_AND_DESIGN|   4.2|  44829|10000000|Free|    0|        Art & Design|\n",
      "|Mandala Coloring ...|ART_AND_DESIGN|   4.6|   4326|  100000|Free|    0|        Art & Design|\n",
      "|3D Color Pixel by...|ART_AND_DESIGN|   4.4|   1518|  100000|Free|    0|        Art & Design|\n",
      "|Learn To Draw Kaw...|ART_AND_DESIGN|   3.2|     55|    5000|Free|    0|        Art & Design|\n",
      "|Photo Designer - ...|ART_AND_DESIGN|   4.7|   3632|  500000|Free|    0|        Art & Design|\n",
      "|350 Diy Room Deco...|ART_AND_DESIGN|   4.5|     27|   10000|Free|    0|        Art & Design|\n",
      "|FlipaClip - Carto...|ART_AND_DESIGN|   4.3| 194216| 5000000|Free|    0|        Art & Design|\n",
      "|        ibis Paint X|ART_AND_DESIGN|   4.6| 224399|10000000|Free|    0|        Art & Design|\n",
      "+--------------------+--------------+------+-------+--------+----+-----+--------------------+\n",
      "only showing top 20 rows\n",
      "\n"
     ]
    }
   ],
   "source": [
    "df1 = df1.withColumn('Rating',col('Rating').cast('float'))\\\n",
    "         .withColumn('Reviews',col('Reviews').cast('int'))\\\n",
    "         .withColumn(\"Installs\",regexp_replace(col(\"Installs\"),\"[^0-9]\",\"\")).withColumn('Installs',col('Installs').cast('int'))\\\n",
    "         .withColumn('Price',regexp_replace(col('Price'),\"[$]\",\"\")).withColumn('Price',col('Price').cast('int'))\n",
    "\n",
    "df1.show()\n"
   ]
  },
  {
   "cell_type": "markdown",
   "metadata": {},
   "source": [
    "Changing column names for better query operations"
   ]
  },
  {
   "cell_type": "code",
   "execution_count": 52,
   "metadata": {},
   "outputs": [
    {
     "data": {
      "text/plain": [
       "['App', 'Category', 'Rating', 'Reviews', 'Installs', 'Type', 'Price', 'Genres']"
      ]
     },
     "execution_count": 52,
     "metadata": {},
     "output_type": "execute_result"
    }
   ],
   "source": [
    "df1.columns"
   ]
  },
  {
   "cell_type": "code",
   "execution_count": 53,
   "metadata": {},
   "outputs": [],
   "source": [
    "rename_columns = {\"App\":\"app\",\"Category\":\"category\",\"Rating\":\"rating\",\"Reviews\":\"reviews\",\"Installs\":\"installs\",\"Type\":\"type\",\"Price\":\"price\",\"Genres\":\"genres\"}\n",
    "\n",
    "for old_column_name ,new_column_name in rename_columns.items():\n",
    "    df1 = df1.withColumnRenamed(old_column_name,new_column_name)"
   ]
  },
  {
   "cell_type": "code",
   "execution_count": 54,
   "metadata": {},
   "outputs": [
    {
     "name": "stdout",
     "output_type": "stream",
     "text": [
      "+--------------------+--------------+------+-------+--------+----+-----+--------------------+\n",
      "|                 app|      category|rating|reviews|installs|type|price|              genres|\n",
      "+--------------------+--------------+------+-------+--------+----+-----+--------------------+\n",
      "|Photo Editor & Ca...|ART_AND_DESIGN|   4.1|    159|   10000|Free|    0|        Art & Design|\n",
      "| Coloring book moana|ART_AND_DESIGN|   3.9|    967|  500000|Free|    0|Art & Design;Pret...|\n",
      "|U Launcher Lite –...|ART_AND_DESIGN|   4.7|  87510| 5000000|Free|    0|        Art & Design|\n",
      "|Sketch - Draw & P...|ART_AND_DESIGN|   4.5| 215644|50000000|Free|    0|        Art & Design|\n",
      "|Pixel Draw - Numb...|ART_AND_DESIGN|   4.3|    967|  100000|Free|    0|Art & Design;Crea...|\n",
      "|Paper flowers ins...|ART_AND_DESIGN|   4.4|    167|   50000|Free|    0|        Art & Design|\n",
      "|Smoke Effect Phot...|ART_AND_DESIGN|   3.8|    178|   50000|Free|    0|        Art & Design|\n",
      "|    Infinite Painter|ART_AND_DESIGN|   4.1|  36815| 1000000|Free|    0|        Art & Design|\n",
      "|Garden Coloring Book|ART_AND_DESIGN|   4.4|  13791| 1000000|Free|    0|        Art & Design|\n",
      "|Kids Paint Free -...|ART_AND_DESIGN|   4.7|    121|   10000|Free|    0|Art & Design;Crea...|\n",
      "|Text on Photo - F...|ART_AND_DESIGN|   4.4|  13880| 1000000|Free|    0|        Art & Design|\n",
      "|Name Art Photo Ed...|ART_AND_DESIGN|   4.4|   8788| 1000000|Free|    0|        Art & Design|\n",
      "|Tattoo Name On My...|ART_AND_DESIGN|   4.2|  44829|10000000|Free|    0|        Art & Design|\n",
      "|Mandala Coloring ...|ART_AND_DESIGN|   4.6|   4326|  100000|Free|    0|        Art & Design|\n",
      "|3D Color Pixel by...|ART_AND_DESIGN|   4.4|   1518|  100000|Free|    0|        Art & Design|\n",
      "|Learn To Draw Kaw...|ART_AND_DESIGN|   3.2|     55|    5000|Free|    0|        Art & Design|\n",
      "|Photo Designer - ...|ART_AND_DESIGN|   4.7|   3632|  500000|Free|    0|        Art & Design|\n",
      "|350 Diy Room Deco...|ART_AND_DESIGN|   4.5|     27|   10000|Free|    0|        Art & Design|\n",
      "|FlipaClip - Carto...|ART_AND_DESIGN|   4.3| 194216| 5000000|Free|    0|        Art & Design|\n",
      "|        ibis Paint X|ART_AND_DESIGN|   4.6| 224399|10000000|Free|    0|        Art & Design|\n",
      "+--------------------+--------------+------+-------+--------+----+-----+--------------------+\n",
      "only showing top 20 rows\n",
      "\n"
     ]
    }
   ],
   "source": [
    "df1.show()"
   ]
  },
  {
   "cell_type": "markdown",
   "metadata": {},
   "source": [
    "Creating temp view of the dataframe to perfrom sql operations"
   ]
  },
  {
   "cell_type": "code",
   "execution_count": 55,
   "metadata": {},
   "outputs": [],
   "source": [
    "df1.createOrReplaceTempView(\"playstore\")"
   ]
  },
  {
   "cell_type": "markdown",
   "metadata": {},
   "source": [
    "# SQL Operations"
   ]
  },
  {
   "cell_type": "markdown",
   "metadata": {},
   "source": [
    "1. Top 10 reviews given to apps"
   ]
  },
  {
   "cell_type": "code",
   "execution_count": 56,
   "metadata": {},
   "outputs": [
    {
     "name": "stdout",
     "output_type": "stream",
     "text": [
      "+--------------------+------------+\n",
      "|                 app|review_count|\n",
      "+--------------------+------------+\n",
      "|           Instagram|   266241989|\n",
      "|  WhatsApp Messenger|   207348304|\n",
      "|      Clash of Clans|   179558781|\n",
      "|Messenger – Text ...|   169932272|\n",
      "|      Subway Surfers|   166331958|\n",
      "|    Candy Crush Saga|   156993136|\n",
      "|            Facebook|   156286514|\n",
      "|         8 Ball Pool|    99386198|\n",
      "|        Clash Royale|    92530298|\n",
      "|            Snapchat|    68045010|\n",
      "+--------------------+------------+\n",
      "\n"
     ]
    }
   ],
   "source": [
    "query = \"\"\" \n",
    "        select app,sum(reviews) as review_count from playstore group by app order by review_count desc LIMIT 10\n",
    "        \"\"\"\n",
    "\n",
    "spark.sql(query).show()"
   ]
  },
  {
   "cell_type": "markdown",
   "metadata": {},
   "source": [
    "2. Top 10 installs app and distribution type(free/paid)"
   ]
  },
  {
   "cell_type": "code",
   "execution_count": 65,
   "metadata": {},
   "outputs": [
    {
     "name": "stdout",
     "output_type": "stream",
     "text": [
      "+------------------+----+-------------+\n",
      "|               app|type|install_count|\n",
      "+------------------+----+-------------+\n",
      "|    Subway Surfers|Free|   6000000000|\n",
      "|         Instagram|Free|   4000000000|\n",
      "|      Google Drive|Free|   4000000000|\n",
      "|          Hangouts|Free|   4000000000|\n",
      "|     Google Photos|Free|   4000000000|\n",
      "|       Google News|Free|   4000000000|\n",
      "|  Candy Crush Saga|Free|   3500000000|\n",
      "|WhatsApp Messenger|Free|   3000000000|\n",
      "|             Gmail|Free|   3000000000|\n",
      "|      Temple Run 2|Free|   3000000000|\n",
      "+------------------+----+-------------+\n",
      "\n"
     ]
    }
   ],
   "source": [
    "query =\"\"\"\n",
    "    select app,type,sum(installs) as install_count from playstore where type=\"Free\" or type=\"Paid\" group by 1,2 order by 3 desc LIMIT 10\n",
    "    \"\"\"\n",
    "\n",
    "spark.sql(query).show()"
   ]
  },
  {
   "cell_type": "code",
   "execution_count": null,
   "metadata": {},
   "outputs": [
    {
     "name": "stdout",
     "output_type": "stream",
     "text": [
      "+------+\n",
      "|  type|\n",
      "+------+\n",
      "|     0|\n",
      "|102248|\n",
      "|   NaN|\n",
      "|  Free|\n",
      "|  Paid|\n",
      "|  2509|\n",
      "+------+\n",
      "\n"
     ]
    }
   ],
   "source": [
    "# identifying categories in 'type' column\n",
    "df1.select('type').distinct().show()"
   ]
  },
  {
   "cell_type": "markdown",
   "metadata": {},
   "source": [
    "Distribution of Type (free/paid)"
   ]
  },
  {
   "cell_type": "code",
   "execution_count": null,
   "metadata": {},
   "outputs": [
    {
     "name": "stdout",
     "output_type": "stream",
     "text": [
      "+----+-----+\n",
      "|type|count|\n",
      "+----+-----+\n",
      "|Free|10037|\n",
      "|Paid|  800|\n",
      "+----+-----+\n",
      "\n"
     ]
    }
   ],
   "source": [
    "\n",
    "query = \"\"\"\n",
    "SELECT type, count(*) AS count\n",
    "FROM playstore\n",
    "where type=\"Free\" or type=\"Paid\"\n",
    "GROUP BY type\n",
    "\"\"\"\n",
    "spark.sql(query).show()"
   ]
  },
  {
   "cell_type": "markdown",
   "metadata": {},
   "source": [
    "3. Category wise distribution of installed apps."
   ]
  },
  {
   "cell_type": "code",
   "execution_count": 67,
   "metadata": {},
   "outputs": [
    {
     "name": "stdout",
     "output_type": "stream",
     "text": [
      "+-------------------+-------------+\n",
      "|           category|install_count|\n",
      "+-------------------+-------------+\n",
      "|               GAME|  35086024415|\n",
      "|      COMMUNICATION|  32647276251|\n",
      "|       PRODUCTIVITY|  14176091369|\n",
      "|             SOCIAL|  14069867902|\n",
      "|              TOOLS|  11452771915|\n",
      "|             FAMILY|  10258263505|\n",
      "|        PHOTOGRAPHY|  10088247655|\n",
      "| NEWS_AND_MAGAZINES|   7496317760|\n",
      "|   TRAVEL_AND_LOCAL|   6868887146|\n",
      "|      VIDEO_PLAYERS|   6222002720|\n",
      "|           SHOPPING|   3247848785|\n",
      "|      ENTERTAINMENT|   2869160000|\n",
      "|    PERSONALIZATION|   2325494782|\n",
      "|BOOKS_AND_REFERENCE|   1921469576|\n",
      "|             SPORTS|   1751174498|\n",
      "| HEALTH_AND_FITNESS|   1582072512|\n",
      "|           BUSINESS|   1001914865|\n",
      "|            FINANCE|    876648734|\n",
      "|          EDUCATION|    871452000|\n",
      "|MAPS_AND_NAVIGATION|    719281890|\n",
      "+-------------------+-------------+\n",
      "only showing top 20 rows\n",
      "\n"
     ]
    }
   ],
   "source": [
    "query = \"\"\"\n",
    "select category,sum(installs) as install_count from playstore GROUP BY 1 order by 2 desc\n",
    "\"\"\"\n",
    "\n",
    "spark.sql(query).show()"
   ]
  },
  {
   "cell_type": "markdown",
   "metadata": {},
   "source": [
    "4. Top Paid Apps"
   ]
  },
  {
   "cell_type": "code",
   "execution_count": 76,
   "metadata": {},
   "outputs": [
    {
     "name": "stdout",
     "output_type": "stream",
     "text": [
      "+--------------------+-----+\n",
      "|                 app|price|\n",
      "+--------------------+-----+\n",
      "|I'm Rich - Trump ...|  400|\n",
      "|most expensive ap...|  399|\n",
      "|   I Am Rich Premium|  399|\n",
      "|I'm Rich/Eu sou R...|  399|\n",
      "|         💎 I'm rich|  399|\n",
      "|I am rich (Most e...|  399|\n",
      "|           I am rich|  399|\n",
      "|       I Am Rich Pro|  399|\n",
      "|  I AM RICH PRO PLUS|  399|\n",
      "|  I am rich(premium)|  399|\n",
      "|           I am Rich|  399|\n",
      "|          I am Rich!|  399|\n",
      "|      I am Rich Plus|  399|\n",
      "|         Eu Sou Rico|  394|\n",
      "|           I Am Rich|  389|\n",
      "| I am extremely Rich|  379|\n",
      "|       I am rich VIP|  299|\n",
      "|        EP Cook Book|  200|\n",
      "|Vargo Anesthesia ...|  158|\n",
      "|       cronometra-br|  154|\n",
      "+--------------------+-----+\n",
      "only showing top 20 rows\n",
      "\n"
     ]
    }
   ],
   "source": [
    "# price in dollars\n",
    "query = \"\"\"\n",
    "        select app,sum(price) as price from playstore where type=\"Paid\" group by 1 order by 2 desc\n",
    "        \"\"\"\n",
    "\n",
    "spark.sql(query).show()"
   ]
  },
  {
   "cell_type": "markdown",
   "metadata": {},
   "source": [
    "Closing spark session"
   ]
  },
  {
   "cell_type": "code",
   "execution_count": null,
   "metadata": {},
   "outputs": [],
   "source": [
    "spark.stop()"
   ]
  }
 ],
 "metadata": {
  "kernelspec": {
   "display_name": "Python 3",
   "language": "python",
   "name": "python3"
  },
  "language_info": {
   "codemirror_mode": {
    "name": "ipython",
    "version": 3
   },
   "file_extension": ".py",
   "mimetype": "text/x-python",
   "name": "python",
   "nbconvert_exporter": "python",
   "pygments_lexer": "ipython3",
   "version": "3.8.10"
  },
  "orig_nbformat": 4
 },
 "nbformat": 4,
 "nbformat_minor": 2
}
