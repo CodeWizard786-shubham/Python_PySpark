{
 "cells": [
  {
   "cell_type": "markdown",
   "metadata": {},
   "source": [
    "# Spark SQl \n",
    "Processing-CPU LOGS "
   ]
  },
  {
   "cell_type": "code",
   "execution_count": 1,
   "metadata": {},
   "outputs": [],
   "source": [
    "import os\n",
    "os.environ[\"SPARK_LOCAL_IP\"] = \"10.0.2.15\""
   ]
  },
  {
   "cell_type": "markdown",
   "metadata": {},
   "source": [
    "1. Find maximum idle hours"
   ]
  },
  {
   "cell_type": "code",
   "execution_count": 2,
   "metadata": {},
   "outputs": [],
   "source": [
    "# Import necessary libraries\n",
    "from pyspark.sql import SparkSession\n",
    "from pyspark import SparkContext as sc\n",
    "import pyspark.sql.functions "
   ]
  },
  {
   "cell_type": "code",
   "execution_count": 3,
   "metadata": {},
   "outputs": [
    {
     "name": "stdout",
     "output_type": "stream",
     "text": [
      "23/07/19 16:22:13 WARN Utils: Your hostname, UbuntuOS resolves to a loopback address: 127.0.1.1; using 10.0.2.15 instead (on interface enp0s3)\n",
      "23/07/19 16:22:13 WARN Utils: Set SPARK_LOCAL_IP if you need to bind to another address\n",
      "23/07/19 16:22:15 WARN NativeCodeLoader: Unable to load native-hadoop library for your platform... using builtin-java classes where applicable\n"
     ]
    },
    {
     "name": "stderr",
     "output_type": "stream",
     "text": [
      "Setting default log level to \"WARN\".\n",
      "To adjust logging level use sc.setLogLevel(newLevel). For SparkR, use setLogLevel(newLevel).\n"
     ]
    },
    {
     "name": "stdout",
     "output_type": "stream",
     "text": [
      "23/07/19 16:22:22 WARN Utils: Service 'SparkUI' could not bind on port 4040. Attempting port 4041.\n"
     ]
    }
   ],
   "source": [
    "# create spark session\n",
    "\n",
    "spark = SparkSession.builder.master('local[*]').appName(\"MaxIdleHours\").config(\"spark.jars\",\"/opt/spark/jars/mysql-connector-j-8.0.33.jar\").getOrCreate()\n"
   ]
  },
  {
   "cell_type": "code",
   "execution_count": 4,
   "metadata": {},
   "outputs": [
    {
     "name": "stderr",
     "output_type": "stream",
     "text": [
      "                                                                                \r"
     ]
    }
   ],
   "source": [
    "\n",
    "# Reading CSV file from hadoop\n",
    "csv_file_path1 = \"hdfs://localhost:9000/pyspark_sql/csv_cpu_logs/CpuLogData2019-09-16.csv\"\n",
    "\n",
    "csv_file_path2 = \"hdfs://localhost:9000/pyspark_sql/csv_cpu_logs/CpuLogData2019-09-17.csv\"\n",
    "csv_file_path3 = \"hdfs://localhost:9000/pyspark_sql/csv_cpu_logs/CpuLogData2019-09-18.csv\"\n",
    "csv_file_path4 = \"hdfs://localhost:9000/pyspark_sql/csv_cpu_logs/CpuLogData2019-09-19.csv\"\n",
    "csv_file_path5 = \"hdfs://localhost:9000/pyspark_sql/csv_cpu_logs/CpuLogData2019-09-20.csv\"\n",
    "csv_file_path6 = \"hdfs://localhost:9000/pyspark_sql/csv_cpu_logs/CpuLogData2019-09-21.csv\"\n",
    "\n",
    "\n",
    "\n",
    "# sc.setLogLevel(self,logLevel='Debug')\n",
    "\n",
    "df1 = spark.read.csv(csv_file_path1,header=True)\n",
    "df2 = spark.read.csv(csv_file_path2,header=True)\n",
    "df3 = spark.read.csv(csv_file_path3,header=True)\n",
    "df4 = spark.read.csv(csv_file_path4,header=True)\n",
    "df5 = spark.read.csv(csv_file_path5,header=True)\n",
    "df6 = spark.read.csv(csv_file_path6,header=True)\n"
   ]
  },
  {
   "cell_type": "code",
   "execution_count": 5,
   "metadata": {},
   "outputs": [
    {
     "name": "stdout",
     "output_type": "stream",
     "text": [
      "23/07/19 15:59:11 WARN package: Truncated the string representation of a plan since it was too large. This behavior can be adjusted by setting 'spark.sql.debug.maxToStringFields'.\n"
     ]
    },
    {
     "data": {
      "text/plain": [
       "4122"
      ]
     },
     "execution_count": 5,
     "metadata": {},
     "output_type": "execute_result"
    }
   ],
   "source": [
    "# union all dataframes\n",
    "\n",
    "combined_csv_df = df1.union(df2).union(df3).union(df4).union(df5).union(df6)\n",
    "\n",
    "combined_csv_df.head(10)\n",
    "\n",
    "combined_csv_df.count()"
   ]
  },
  {
   "cell_type": "code",
   "execution_count": 6,
   "metadata": {},
   "outputs": [
    {
     "name": "stdout",
     "output_type": "stream",
     "text": [
      "['DateTime', 'Cpu Count', 'Cpu Working Time', 'Cpu idle Time', 'cpu_percent', 'Usage Cpu Count ', 'number of software interrupts since boot', 'number of system calls since boot', 'number of interrupts since boot', 'cpu avg load over 1 min', 'cpu avg load over 5 min', 'cpu avg load over 15 min', 'system_total_memory', 'system_used_memory', 'system_free_memory', 'system_active_memory', 'system_inactive_memory', 'system_buffers_memory', 'system_cached_memory', 'system_shared_memory', 'system_avalible_memory', 'disk_total_memory', 'disk_used_memory', 'disk_free_memory', 'disk_read_count', 'disk_write_count', 'disk_read_bytes', 'disk_write_bytes', 'time spent reading from disk', 'time spent writing to disk', 'time spent doing actual I/Os', 'number of bytes sent', 'number of bytes received', 'number of packets sent', 'number of packets recived', 'total number of errors while receiving', 'total number of errors while sending', 'total number of incoming packets which were dropped', 'total number of outgoing packets which were dropped', 'boot_time', 'user_name', 'keyboard', 'mouse', 'technology', 'files_changed']\n"
     ]
    }
   ],
   "source": [
    "\n",
    "csv_columns = combined_csv_df.columns\n",
    "\n",
    "print(csv_columns)\n",
    "\n"
   ]
  },
  {
   "cell_type": "code",
   "execution_count": 7,
   "metadata": {},
   "outputs": [],
   "source": [
    "# create tem view\n",
    "combined_csv_df.createOrReplaceTempView(\"combined_csv_data\")"
   ]
  },
  {
   "cell_type": "code",
   "execution_count": 8,
   "metadata": {},
   "outputs": [
    {
     "name": "stdout",
     "output_type": "stream",
     "text": [
      "+--------------------+-------------+\n",
      "|           user_name|max_idle_time|\n",
      "+--------------------+-------------+\n",
      "|deepshukla292@gma...|       141300|\n",
      "|markfernandes66@g...|        85500|\n",
      "|sharlawar77@gmail...|        84300|\n",
      "|rahilstar11@gmail...|        83400|\n",
      "|bhagyashrichalke2...|        83400|\n",
      "|salinabodale73@gm...|        82500|\n",
      "|damodharn21@gmail...|        80100|\n",
      "|  iamnzm@outlook.com|        75600|\n",
      "+--------------------+-------------+\n",
      "\n"
     ]
    }
   ],
   "source": [
    "sql_query = spark.sql(\"SELECT user_name, MAX(idle_time) AS max_idle_time FROM (SELECT user_name, Datetime,UNIX_TIMESTAMP(Datetime) - UNIX_TIMESTAMP(LAG(Datetime) OVER (PARTITION BY user_name ORDER BY Datetime)) AS idle_time FROM combined_csv_data WHERE keyboard = '0.0' AND mouse = '0.0') subquery GROUP BY user_name ORDER BY max_idle_time desc\")\n",
    "\n",
    "sql_query.show()"
   ]
  },
  {
   "cell_type": "markdown",
   "metadata": {},
   "source": [
    "2. find lowest number of average hours"
   ]
  },
  {
   "cell_type": "code",
   "execution_count": 9,
   "metadata": {},
   "outputs": [
    {
     "name": "stdout",
     "output_type": "stream",
     "text": [
      "+--------------------+------------------+\n",
      "|           user_name|     min_avg_hours|\n",
      "+--------------------+------------------+\n",
      "|  iamnzm@outlook.com|14.090140845070422|\n",
      "|bhagyashrichalke2...|          14.09375|\n",
      "|deepshukla292@gma...|14.129449838187702|\n",
      "|salinabodale73@gm...|14.172727272727272|\n",
      "|markfernandes66@g...|14.256410256410257|\n",
      "|sharlawar77@gmail...|14.417910447761194|\n",
      "|rahilstar11@gmail...|14.586440677966102|\n",
      "|damodharn21@gmail...| 14.88888888888889|\n",
      "+--------------------+------------------+\n",
      "\n"
     ]
    }
   ],
   "source": [
    "sql_query1 = spark.sql(\"\"\"\n",
    "  SELECT user_name, AVG(hour(DateTime)) AS min_avg_hours\n",
    "  FROM combined_csv_data where mouse !=0 and keyboard !=0\n",
    "  GROUP BY user_name\n",
    "  ORDER BY min_avg_hours\n",
    "\"\"\")\n",
    "\n",
    "sql_query1.show()"
   ]
  },
  {
   "cell_type": "markdown",
   "metadata": {},
   "source": [
    "3. Find max number of average hours"
   ]
  },
  {
   "cell_type": "code",
   "execution_count": 10,
   "metadata": {},
   "outputs": [
    {
     "name": "stdout",
     "output_type": "stream",
     "text": [
      "+--------------------+------------------+\n",
      "|           user_name|     max_avg_hours|\n",
      "+--------------------+------------------+\n",
      "|damodharn21@gmail...| 14.88888888888889|\n",
      "|rahilstar11@gmail...|14.586440677966102|\n",
      "|sharlawar77@gmail...|14.417910447761194|\n",
      "|markfernandes66@g...|14.256410256410257|\n",
      "|salinabodale73@gm...|14.172727272727272|\n",
      "|deepshukla292@gma...|14.129449838187702|\n",
      "|bhagyashrichalke2...|          14.09375|\n",
      "|  iamnzm@outlook.com|14.090140845070422|\n",
      "+--------------------+------------------+\n",
      "\n"
     ]
    }
   ],
   "source": [
    "sql_query2 = spark.sql(\"\"\"\n",
    "  SELECT user_name, AVG(hour(DateTime)) AS max_avg_hours\n",
    "  FROM combined_csv_data where keyboard !=0 and mouse !=0\n",
    "  GROUP BY user_name\n",
    "  ORDER BY max_avg_hours DESC\n",
    "\"\"\")\n",
    "\n",
    "sql_query2.show()"
   ]
  },
  {
   "cell_type": "code",
   "execution_count": 11,
   "metadata": {},
   "outputs": [
    {
     "data": {
      "text/plain": [
       "[Row(DateTime='2019-09-16 12:55:03', Cpu Count='4', Cpu Working Time='1903.63', Cpu idle Time='20452.89', cpu_percent='6.1', Usage Cpu Count ='4', number of software interrupts since boot='5985878', number of system calls since boot='0', number of interrupts since boot='9940284', cpu avg load over 1 min='1.34', cpu avg load over 5 min='1.39', cpu avg load over 15 min='0.99', system_total_memory='8284991488', system_used_memory='6763266048', system_free_memory='121323520', system_active_memory='6131396608', system_inactive_memory='1458581504', system_buffers_memory='316784640', system_cached_memory='1083617280', system_shared_memory='521969664', system_avalible_memory='704999424', disk_total_memory='313445539840', disk_used_memory='32033652736', disk_free_memory='265418379264', disk_read_count='383708', disk_write_count='66449', disk_read_bytes='4290477056', disk_write_bytes='2469106688', time spent reading from disk='14529344', time spent writing to disk='16266860', time spent doing actual I/Os='1332752', number of bytes sent='60199122', number of bytes received='98463161', number of packets sent='147851', number of packets recived='223672', total number of errors while receiving='0', total number of errors while sending='0', total number of incoming packets which were dropped='0', total number of outgoing packets which were dropped='0', boot_time='1:44:58.890881', user_name='rahilstar11@gmail.com', keyboard='0.0', mouse='0.0', technology='php', files_changed='160'),\n",
       " Row(DateTime='2019-09-16 12:55:02', Cpu Count='4', Cpu Working Time='3498.34', Cpu idle Time='23265.87', cpu_percent='25.4', Usage Cpu Count ='4', number of software interrupts since boot='7970077', number of system calls since boot='0', number of interrupts since boot='12271547', cpu avg load over 1 min='1.35', cpu avg load over 5 min='1.46', cpu avg load over 15 min='2.21', system_total_memory='8285933568', system_used_memory='5053657088', system_free_memory='1004728320', system_active_memory='5654458368', system_inactive_memory='1204940800', system_buffers_memory='515870720', system_cached_memory='1711677440', system_shared_memory='680599552', system_avalible_memory='2256027648', disk_total_memory='313973989376', disk_used_memory='21851361280', disk_free_memory='276102275072', disk_read_count='84548', disk_write_count='314205', disk_read_bytes='1750535168', disk_write_bytes='4857237504', time spent reading from disk='4122092', time spent writing to disk='19303384', time spent doing actual I/Os='4045812', number of bytes sent='463998929', number of bytes received='514989079', number of packets sent='402612', number of packets recived='497442', total number of errors while receiving='0', total number of errors while sending='0', total number of incoming packets which were dropped='0', total number of outgoing packets which were dropped='0', boot_time='2:12:31.399139', user_name='salinabodale73@gmail.com', keyboard='2919.5', mouse='888.0', technology='java', files_changed='1190'),\n",
       " Row(DateTime='2019-09-16 12:55:01', Cpu Count='4', Cpu Working Time='2817.84', Cpu idle Time='31135.41', cpu_percent='29.0', Usage Cpu Count ='4', number of software interrupts since boot='6574979', number of system calls since boot='0', number of interrupts since boot='9886157', cpu avg load over 1 min='0.87', cpu avg load over 5 min='0.72', cpu avg load over 15 min='0.72', system_total_memory='16699666432', system_used_memory='6748987392', system_free_memory='5471072256', system_active_memory='7871406080', system_inactive_memory='2557349888', system_buffers_memory='631607296', system_cached_memory='3847999488', system_shared_memory='678232064', system_avalible_memory='9039355904', disk_total_memory='313445539840', disk_used_memory='46641459200', disk_free_memory='250810572800', disk_read_count='156802', disk_write_count='77416', disk_read_bytes='2550220800', disk_write_bytes='2330604544', time spent reading from disk='3164540', time spent writing to disk='10045668', time spent doing actual I/Os='1031376', number of bytes sent='30114324', number of bytes received='194625949', number of packets sent='157573', number of packets recived='296756', total number of errors while receiving='0', total number of errors while sending='0', total number of incoming packets which were dropped='0', total number of outgoing packets which were dropped='0', boot_time='2:29:26.433867', user_name='bhagyashrichalke21@gmail.com', keyboard='144.0', mouse='2886.0', technology='java', files_changed='383'),\n",
       " Row(DateTime='2019-09-16 13:00:01', Cpu Count='4', Cpu Working Time='2896.42', Cpu idle Time='31972.14', cpu_percent='27.6', Usage Cpu Count ='4', number of software interrupts since boot='6926493', number of system calls since boot='0', number of interrupts since boot='10303855', cpu avg load over 1 min='1.46', cpu avg load over 5 min='1.44', cpu avg load over 15 min='1.06', system_total_memory='16699666432', system_used_memory='6745083904', system_free_memory='4867887104', system_active_memory='8029798400', system_inactive_memory='2533167104', system_buffers_memory='787116032', system_cached_memory='4299579392', system_shared_memory='656216064', system_avalible_memory='9068326912', disk_total_memory='313445539840', disk_used_memory='46642446336', disk_free_memory='250809585664', disk_read_count='194192', disk_write_count='89368', disk_read_bytes='2705434624', disk_write_bytes='2610418688', time spent reading from disk='3411812', time spent writing to disk='15642372', time spent doing actual I/Os='1271168', number of bytes sent='30913498', number of bytes received='196454729', number of packets sent='162309', number of packets recived='304255', total number of errors while receiving='0', total number of errors while sending='0', total number of incoming packets which were dropped='0', total number of outgoing packets which were dropped='0', boot_time='2:34:26.161731', user_name='bhagyashrichalke21@gmail.com', keyboard='21.0', mouse='44.0', technology='java', files_changed='289'),\n",
       " Row(DateTime='2019-09-16 13:00:01', Cpu Count='2', Cpu Working Time='1745.64', Cpu idle Time='6402.74', cpu_percent='54.5', Usage Cpu Count ='2', number of software interrupts since boot='5452275', number of system calls since boot='0', number of interrupts since boot='5543364', cpu avg load over 1 min='1.83', cpu avg load over 5 min='1.3', cpu avg load over 15 min='1.23', system_total_memory='7896846336', system_used_memory='3237007360', system_free_memory='487067648', system_active_memory='4349165568', system_inactive_memory='2162061312', system_buffers_memory='802672640', system_cached_memory='3370098688', system_shared_memory='533020672', system_avalible_memory='3813568512', disk_total_memory='30149586944', disk_used_memory='18823622656', disk_free_memory='9770823680', disk_read_count='419045', disk_write_count='45069', disk_read_bytes='2676926464', disk_write_bytes='8817501184', time spent reading from disk='1102692', time spent writing to disk='966792', time spent doing actual I/Os='4511900', number of bytes sent='12898775', number of bytes received='56379556', number of packets sent='34204', number of packets recived='119805', total number of errors while receiving='0', total number of errors while sending='0', total number of incoming packets which were dropped='0', total number of outgoing packets which were dropped='0', boot_time='1:15:11.465809', user_name='iamnzm@outlook.com', keyboard='41.0', mouse='8251.0', technology='python', files_changed='168'),\n",
       " Row(DateTime='2019-09-16 13:00:01', Cpu Count='2', Cpu Working Time='7037.22', Cpu idle Time='20021.16', cpu_percent='52.9', Usage Cpu Count ='2', number of software interrupts since boot='16967358', number of system calls since boot='0', number of interrupts since boot='18764027', cpu avg load over 1 min='0.9', cpu avg load over 5 min='0.74', cpu avg load over 15 min='0.64', system_total_memory='7893979136', system_used_memory='4076777472', system_free_memory='650276864', system_active_memory='5163163648', system_inactive_memory='1080348672', system_buffers_memory='520450048', system_cached_memory='2646474752', system_shared_memory='374030336', system_avalible_memory='3125817344', disk_total_memory='30149586944', disk_used_memory='24959979520', disk_free_memory='3634466816', disk_read_count='212491', disk_write_count='64769', disk_read_bytes='1963467776', disk_write_bytes='1386177536', time spent reading from disk='1197618', time spent writing to disk='5024785', time spent doing actual I/Os='131900', number of bytes sent='40729654', number of bytes received='515629473', number of packets sent='365967', number of packets recived='555629', total number of errors while receiving='0', total number of errors while sending='0', total number of incoming packets which were dropped='0', total number of outgoing packets which were dropped='0', boot_time='4:08:26.857358', user_name='deepshukla292@gmail.com', keyboard='249.5', mouse='4266.0', technology='java', files_changed='338'),\n",
       " Row(DateTime='2019-09-16 13:00:02', Cpu Count='4', Cpu Working Time='3684.81', Cpu idle Time='24012.36', cpu_percent='39.0', Usage Cpu Count ='4', number of software interrupts since boot='8376273', number of system calls since boot='0', number of interrupts since boot='12917702', cpu avg load over 1 min='1.39', cpu avg load over 5 min='1.77', cpu avg load over 15 min='2.16', system_total_memory='8285933568', system_used_memory='5272010752', system_free_memory='328011776', system_active_memory='5720449024', system_inactive_memory='1417015296', system_buffers_memory='527466496', system_cached_memory='2158444544', system_shared_memory='1039732736', system_avalible_memory='1678237696', disk_total_memory='313973989376', disk_used_memory='21847298048', disk_free_memory='276106338304', disk_read_count='125962', disk_write_count='321345', disk_read_bytes='2006248448', disk_write_bytes='5022093312', time spent reading from disk='4337784', time spent writing to disk='28571692', time spent doing actual I/Os='4251612', number of bytes sent='485060841', number of bytes received='536410047', number of packets sent='419620', number of packets recived='516899', total number of errors while receiving='0', total number of errors while sending='0', total number of incoming packets which were dropped='0', total number of outgoing packets which were dropped='0', boot_time='2:17:31.892002', user_name='salinabodale73@gmail.com', keyboard='135.5', mouse='692.0', technology='java', files_changed='64'),\n",
       " Row(DateTime='2019-09-16 13:00:04', Cpu Count='4', Cpu Working Time='4479.76', Cpu idle Time='26409.62', cpu_percent='16.9', Usage Cpu Count ='4', number of software interrupts since boot='9551231', number of system calls since boot='0', number of interrupts since boot='10488624', cpu avg load over 1 min='1.32', cpu avg load over 5 min='1.37', cpu avg load over 15 min='1.11', system_total_memory='8284983296', system_used_memory='4521607168', system_free_memory='216039424', system_active_memory='5154885632', system_inactive_memory='2344497152', system_buffers_memory='676397056', system_cached_memory='2870939648', system_shared_memory='1114275840', system_avalible_memory='2450231296', disk_total_memory='313445539840', disk_used_memory='33580752896', disk_free_memory='263871279104', disk_read_count='165416', disk_write_count='88126', disk_read_bytes='2565609472', disk_write_bytes='4489421824', time spent reading from disk='6358960', time spent writing to disk='11001744', time spent doing actual I/Os='1031580', number of bytes sent='33789844', number of bytes received='267673494', number of packets sent='111754', number of packets recived='287725', total number of errors while receiving='0', total number of errors while sending='5', total number of incoming packets which were dropped='0', total number of outgoing packets which were dropped='0', boot_time='2:20:17.708247', user_name='sharlawar77@gmail.com', keyboard='303.0', mouse='243.0', technology='php', files_changed='206'),\n",
       " Row(DateTime='2019-09-16 13:00:03', Cpu Count='4', Cpu Working Time='1976.97', Cpu idle Time='21467.12', cpu_percent='11.1', Usage Cpu Count ='4', number of software interrupts since boot='6271521', number of system calls since boot='0', number of interrupts since boot='10418867', cpu avg load over 1 min='0.45', cpu avg load over 5 min='0.88', cpu avg load over 15 min='0.88', system_total_memory='8284991488', system_used_memory='6684839936', system_free_memory='178511872', system_active_memory='5990719488', system_inactive_memory='1459630080', system_buffers_memory='285339648', system_cached_memory='1136300032', system_shared_memory='519622656', system_avalible_memory='789835776', disk_total_memory='313445539840', disk_used_memory='32034451456', disk_free_memory='265417580544', disk_read_count='403188', disk_write_count='68485', disk_read_bytes='4451635200', disk_write_bytes='2714350592', time spent reading from disk='14699728', time spent writing to disk='16486340', time spent doing actual I/Os='1392804', number of bytes sent='61258184', number of bytes received='100336969', number of packets sent='153236', number of packets recived='231593', total number of errors while receiving='0', total number of errors while sending='0', total number of incoming packets which were dropped='0', total number of outgoing packets which were dropped='0', boot_time='1:49:58.926092', user_name='rahilstar11@gmail.com', keyboard='22.5', mouse='170.0', technology='php', files_changed='117'),\n",
       " Row(DateTime='2019-09-16 13:05:01', Cpu Count='4', Cpu Working Time='3868.44', Cpu idle Time='24978.04', cpu_percent='52.9', Usage Cpu Count ='4', number of software interrupts since boot='8625074', number of system calls since boot='0', number of interrupts since boot='13426920', cpu avg load over 1 min='0.47', cpu avg load over 5 min='1.24', cpu avg load over 15 min='1.84', system_total_memory='8285933568', system_used_memory='5095604224', system_free_memory='517189632', system_active_memory='5551415296', system_inactive_memory='1379119104', system_buffers_memory='529383424', system_cached_memory='2143756288', system_shared_memory='1002962944', system_avalible_memory='1894973440', disk_total_memory='313973989376', disk_used_memory='21847326720', disk_free_memory='276106309632', disk_read_count='126480', disk_write_count='323039', disk_read_bytes='2011704320', disk_write_bytes='5044387840', time spent reading from disk='4344912', time spent writing to disk='28608580', time spent doing actual I/Os='4263848', number of bytes sent='505853072', number of bytes received='557525778', number of packets sent='435468', number of packets recived='535677', total number of errors while receiving='0', total number of errors while sending='0', total number of incoming packets which were dropped='0', total number of outgoing packets which were dropped='0', boot_time='2:22:30.875820', user_name='salinabodale73@gmail.com', keyboard='179.5', mouse='108.0', technology='java', files_changed='56')]"
      ]
     },
     "execution_count": 11,
     "metadata": {},
     "output_type": "execute_result"
    }
   ],
   "source": [
    "combined_csv_df.head(10)"
   ]
  },
  {
   "cell_type": "markdown",
   "metadata": {},
   "source": [
    "4. Find users with highest number of late comings"
   ]
  },
  {
   "cell_type": "code",
   "execution_count": 15,
   "metadata": {},
   "outputs": [
    {
     "name": "stdout",
     "output_type": "stream",
     "text": [
      "23/07/19 16:00:49 WARN WindowExec: No Partition Defined for Window operation! Moving all data to a single partition, this can cause serious performance degradation.\n",
      "23/07/19 16:00:49 WARN WindowExec: No Partition Defined for Window operation! Moving all data to a single partition, this can cause serious performance degradation.\n",
      "23/07/19 16:00:49 WARN WindowExec: No Partition Defined for Window operation! Moving all data to a single partition, this can cause serious performance degradation.\n",
      "23/07/19 16:00:49 WARN WindowExec: No Partition Defined for Window operation! Moving all data to a single partition, this can cause serious performance degradation.\n",
      "23/07/19 16:00:49 WARN WindowExec: No Partition Defined for Window operation! Moving all data to a single partition, this can cause serious performance degradation.\n",
      "+--------------------+----+\n",
      "|           user_name|rank|\n",
      "+--------------------+----+\n",
      "|sharlawar77@gmail...|   1|\n",
      "+--------------------+----+\n",
      "\n"
     ]
    }
   ],
   "source": [
    "sql_query3 = spark.sql(\"\"\"\n",
    "  SELECT user_name, `rank`\n",
    "  FROM (\n",
    "    SELECT user_name, RANK() OVER (ORDER BY DateTime DESC) AS `rank`\n",
    "    FROM combined_csv_data\n",
    "  ) ranked_data\n",
    "  WHERE  `rank` = 1\n",
    "\"\"\")\n",
    "\n",
    "sql_query3.show()\n"
   ]
  },
  {
   "cell_type": "code",
   "execution_count": 16,
   "metadata": {},
   "outputs": [],
   "source": [
    "# Stroing data into sql database\n",
    "import os\n",
    "# Define the JDBC connection properties\n",
    "try:\n",
    "  database_url = \"jdbc:mysql://localhost:3306/pysparksql\"\n",
    "  database_table = \"idle_cpu_users\"\n",
    "  database_properties = {\n",
    "      \"user\": os.environ['DB_USERNAME'],\n",
    "      \"password\": os.environ['DB_PASSWORD'],\n",
    "      \"driver\": \"com.mysql.cj.jdbc.Driver\"\n",
    "  }\n",
    "\n",
    "  # Write the DataFrame to the SQL database\n",
    "  sql_query.write \\\n",
    "    .format(\"jdbc\") \\\n",
    "    .option(\"url\", database_url) \\\n",
    "    .option(\"dbtable\", database_table) \\\n",
    "    .option(\"user\", database_properties[\"user\"]) \\\n",
    "    .option(\"password\", database_properties[\"password\"]) \\\n",
    "    .option(\"driver\", database_properties[\"driver\"]) \\\n",
    "    .mode(\"overwrite\") \\\n",
    "    .save()\n",
    "\n",
    "except Exception as e:\n",
    "  print(str(e))  \n",
    "  \n",
    "\n",
    "\n",
    "  \n",
    "  \n"
   ]
  },
  {
   "cell_type": "code",
   "execution_count": 4,
   "metadata": {},
   "outputs": [
    {
     "ename": "NameError",
     "evalue": "name 'os' is not defined",
     "output_type": "error",
     "traceback": [
      "\u001b[0;31m---------------------------------------------------------------------------\u001b[0m",
      "\u001b[0;31mNameError\u001b[0m                                 Traceback (most recent call last)",
      "Cell \u001b[0;32mIn[4], line 6\u001b[0m\n\u001b[1;32m      1\u001b[0m \u001b[39m# Read from SQL Table\u001b[39;00m\n\u001b[1;32m      2\u001b[0m df \u001b[39m=\u001b[39m spark\u001b[39m.\u001b[39mread \\\n\u001b[1;32m      3\u001b[0m   \u001b[39m.\u001b[39mformat(\u001b[39m\"\u001b[39m\u001b[39mjdbc\u001b[39m\u001b[39m\"\u001b[39m) \\\n\u001b[1;32m      4\u001b[0m   \u001b[39m.\u001b[39moption(\u001b[39m\"\u001b[39m\u001b[39murl\u001b[39m\u001b[39m\"\u001b[39m, \u001b[39m\"\u001b[39m\u001b[39mjdbc:mysql://localhost:3306/pysparksql;databaseName=\u001b[39m\u001b[39m'\u001b[39m\u001b[39midle_cpu_users\u001b[39m\u001b[39m\"\u001b[39m) \\\n\u001b[1;32m      5\u001b[0m   \u001b[39m.\u001b[39moption(\u001b[39m\"\u001b[39m\u001b[39mdbtable\u001b[39m\u001b[39m\"\u001b[39m, \u001b[39m\"\u001b[39m\u001b[39mselect user_name from idle_cpu_users\u001b[39m\u001b[39m\"\u001b[39m) \\\n\u001b[0;32m----> 6\u001b[0m   \u001b[39m.\u001b[39moption(\u001b[39m\"\u001b[39m\u001b[39muser\u001b[39m\u001b[39m\"\u001b[39m, os\u001b[39m.\u001b[39menviron[\u001b[39m'\u001b[39m\u001b[39mDB_USERNAME\u001b[39m\u001b[39m'\u001b[39m]) \\\n\u001b[1;32m      7\u001b[0m   \u001b[39m.\u001b[39moption(\u001b[39m\"\u001b[39m\u001b[39mpassword\u001b[39m\u001b[39m\"\u001b[39m, os\u001b[39m.\u001b[39menviron[\u001b[39m'\u001b[39m\u001b[39mDB_PASSWORD\u001b[39m\u001b[39m'\u001b[39m]) \\\n\u001b[1;32m      8\u001b[0m   \u001b[39m.\u001b[39mload()\n\u001b[1;32m     10\u001b[0m df\u001b[39m.\u001b[39mshow()\n",
      "\u001b[0;31mNameError\u001b[0m: name 'os' is not defined"
     ]
    }
   ],
   "source": [
    "import os\n",
    "# Read from SQL Table\n",
    "df = spark.read \\\n",
    "  .format(\"jdbc\") \\\n",
    "  .option(\"url\", \"jdbc:mysql://localhost:3306/pysparksql;databaseName='idle_cpu_users\") \\\n",
    "  .option(\"dbtable\", \"select user_name from idle_cpu_users\") \\\n",
    "  .option(\"user\", os.environ['DB_USERNAME']) \\\n",
    "  .option(\"password\", os.environ['DB_PASSWORD']) \\\n",
    "  .load()\n",
    "\n",
    "df.show()\n"
   ]
  }
 ],
 "metadata": {
  "kernelspec": {
   "display_name": "Python 3",
   "language": "python",
   "name": "python3"
  },
  "language_info": {
   "codemirror_mode": {
    "name": "ipython",
    "version": 3
   },
   "file_extension": ".py",
   "mimetype": "text/x-python",
   "name": "python",
   "nbconvert_exporter": "python",
   "pygments_lexer": "ipython3",
   "version": "3.8.10"
  },
  "orig_nbformat": 4
 },
 "nbformat": 4,
 "nbformat_minor": 2
}
